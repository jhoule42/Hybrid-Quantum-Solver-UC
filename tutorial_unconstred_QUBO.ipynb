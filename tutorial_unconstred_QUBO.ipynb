{
 "cells": [
  {
   "cell_type": "code",
   "execution_count": 1,
   "metadata": {
    "collapsed": false
   },
   "outputs": [],
   "source": [
    "# This cell is added by sphinx-gallery\n",
    "# It can be customized to whatever you like\n",
    "%matplotlib inline"
   ]
  },
  {
   "cell_type": "markdown",
   "metadata": {},
   "source": [
    "Quadratic Unconstrained Binary Optimization (QUBO)\n",
    "==================================================\n",
    "\n",
    "Solving combinatorial optimization problems using quantum computing is\n",
    "one of those promising applications for the near term. But, why are\n",
    "combinatorial optimization problems even important? We care about them\n",
    "because, in fields such as logistics, finance, and engineering, there\n",
    "exist useful applications that can be translated into combinatorial\n",
    "optimization problems. But useful applications are not enough to justify\n",
    "the use of quantum devices. It is here where the second ingredient comes\n",
    "in---many combinatorial optimization problems are difficult to solve!\n",
    "Finding good solutions (classically) for large instances of them\n",
    "requires an enormous amount of computational resources and time 😮‍💨.\n",
    "\n",
    "In this demo, we will be using the quantum approximate optimization\n",
    "algorithm (QAOA) and quantum annealing (QA) to solve a combinatorial\n",
    "optimization problem. First, we show how to translate combinatorial\n",
    "optimization problems into the quadratic unconstrained binary\n",
    "optimization (QUBO) formulation. In the first part of this notebook, we\n",
    "will show how to encode the Knapsack problem as a target Hamiltonian and\n",
    "solve it using the optimization-free version of QAOA and QA on D-Wave\n",
    "Advantage quantum annealer.\n",
    "\n",
    "![](../_static/demonstration_assets/QUBO/items_QUBO.png){.align-center\n",
    "width=\"50.0%\"}\n"
   ]
  },
  {
   "cell_type": "markdown",
   "metadata": {},
   "source": [
    "Combinatorial Optimization Problems\n",
    "===================================\n",
    "\n",
    "Combinatorial optimization problems involve finding the best way to\n",
    "arrange a set of objects or values to achieve a specific goal. The word\n",
    "'combinatorial' refers to the fact that we are dealing with combinations\n",
    "of objects, while 'optimization' means that we are trying to find the\n",
    "best possible arrangement of them.\n",
    "\n",
    "Let's start with a basic example. Imagine we have 5 items ⚽️, 💻, 📸, 📚,\n",
    "and 🎸 and we would love to bring all of them with us. Unfortunately, our\n",
    "knapsack does not fit all of them 😔. So we need to find the best way to\n",
    "bring the most important items with us.\n",
    "\n",
    "This is an example of the infamous *Knapsack Problem.* From our problem\n",
    "statement, we know that we need to maximize the value of the most\n",
    "important items. So we need to assign a value based on the importance\n",
    "the items have to us:\n"
   ]
  },
  {
   "cell_type": "code",
   "execution_count": 2,
   "metadata": {
    "collapsed": false
   },
   "outputs": [],
   "source": [
    "items_values = {\"⚽️\": 8, \"💻\": 47, \"📸\": 10, \"📚\": 5, \"🎸\": 16}\n",
    "values_list = [8, 47, 10, 5, 16]"
   ]
  },
  {
   "cell_type": "markdown",
   "metadata": {},
   "source": [
    "Additionally, we know that we the knapsack has limited space. For\n",
    "simplicity, let's assume there is a limit to the weight it can hold. So\n",
    "we need to assign an estimate of the weight of each item:\n"
   ]
  },
  {
   "cell_type": "code",
   "execution_count": 3,
   "metadata": {
    "collapsed": false
   },
   "outputs": [],
   "source": [
    "items_weight = {\"⚽️\": 3, \"💻\": 11, \"📸\": 14, \"📚\": 19, \"🎸\": 5}\n",
    "weights_list = [3, 11, 14, 19, 5]"
   ]
  },
  {
   "cell_type": "markdown",
   "metadata": {},
   "source": [
    "Finally, we need to know the maximum weight we can bring in the\n",
    "knapsack:\n"
   ]
  },
  {
   "cell_type": "code",
   "execution_count": 4,
   "metadata": {
    "collapsed": false
   },
   "outputs": [],
   "source": [
    "maximum_weight = 26"
   ]
  },
  {
   "cell_type": "markdown",
   "metadata": {},
   "source": [
    "Now we have well-defined optimization problem to work with. Let's start\n",
    "with the easiest way to solve it, i.e., by trying all possible\n",
    "combinations of the items. But the number of combinations is equal to\n",
    "$2^n$ where $n$ is the number of items. Why is this the case? For each\n",
    "item, we have two options---\"1\" if we bring the item and \"0\" otherwise.\n",
    "With 2 options for each item and 5 items to choose from, we have\n",
    "$2 \\cdot 2 \\cdot 2 \\cdot 2 \\cdot 2 = 2^5 = 32$ combinations in our case.\n",
    "For each of these cases, we calculate the sum of the values and the sum\n",
    "of the weights, selecting the one that fulfills the maximum weight\n",
    "constraint and has the largest sum of values (this is the optimization\n",
    "step). Now, let\\'s write some code to solve the Knapsack problem with\n",
    "this brute-force method!\n"
   ]
  },
  {
   "cell_type": "code",
   "execution_count": 5,
   "metadata": {
    "collapsed": false
   },
   "outputs": [
    {
     "name": "stdout",
     "output_type": "stream",
     "text": [
      "The best combination is ['⚽️', '💻', '🎸'] with a total value: 71 and total weight 19 \n"
     ]
    }
   ],
   "source": [
    "import numpy as np\n",
    "\n",
    "def sum_weight(bitstring, items_weight):\n",
    "    weight = 0\n",
    "    for n, i in enumerate(items_weight):\n",
    "        if bitstring[n] == \"1\":\n",
    "            weight += i\n",
    "    return weight\n",
    "\n",
    "\n",
    "def sum_values(bitstring, items_value):\n",
    "    value = 0\n",
    "    for n, i in enumerate(items_value):\n",
    "        if bitstring[n] == \"1\":\n",
    "            value += i\n",
    "    return value\n",
    "\n",
    "items = list(items_values.keys())\n",
    "n_items = len(items)\n",
    "combinations = {}\n",
    "max_value = 0\n",
    "for case_i in range(2**n_items):  # all possible options\n",
    "    combinations[case_i] = {}\n",
    "    bitstring = np.binary_repr(\n",
    "        case_i, n_items\n",
    "    )  # bitstring representation of a possible combination, e.g, \"01100\" in our problem means bringing (-💻📸--)\n",
    "    combinations[case_i][\"items\"] = [items[n] for n, i in enumerate(bitstring) if i == \"1\"]\n",
    "    combinations[case_i][\"value\"] = sum_values(bitstring, values_list)\n",
    "    combinations[case_i][\"weight\"] = sum_values(bitstring, weights_list)\n",
    "    # save the information of the optimal solution (the one that maximizes the value while respecting the maximum weight)\n",
    "    if (\n",
    "        combinations[case_i][\"value\"] > max_value\n",
    "        and combinations[case_i][\"weight\"] <= maximum_weight\n",
    "    ):\n",
    "        max_value = combinations[case_i][\"value\"]\n",
    "        optimal_solution = {\n",
    "            \"items\": combinations[case_i][\"items\"],\n",
    "            \"value\": combinations[case_i][\"value\"],\n",
    "            \"weight\": combinations[case_i][\"weight\"],\n",
    "        }\n",
    "\n",
    "\n",
    "print(\n",
    "    f\"The best combination is {optimal_solution['items']} with a total value: {optimal_solution['value']} and total weight {optimal_solution['weight']} \"\n",
    ")"
   ]
  },
  {
   "cell_type": "markdown",
   "metadata": {},
   "source": [
    "That was easy, right? But what if we have larger cases like 10, 50, or\n",
    "100? Just to see how this scales, suppose it takes 1 ns to try one case.\n"
   ]
  },
  {
   "cell_type": "code",
   "execution_count": 13,
   "metadata": {
    "collapsed": false
   },
   "outputs": [
    {
     "name": "stdout",
     "output_type": "stream",
     "text": [
      "- For 10 items, 2^10 cases, we need 4e-09 seconds.\n",
      "- For 50 items, 2^50 cases, we need 13 days.\n",
      "- For 127 items, 2^127 cases, we need 5395141535403007279104 years.\n"
     ]
    }
   ],
   "source": [
    "def time_to_solution(n, time_single_case):\n",
    "    \"\"\"\n",
    "        n (int): number of variables\n",
    "        time_single_case (float): time to solve a single case\n",
    "    \"\"\"\n",
    "    return time_single_case * 2 ** n\n",
    "\n",
    "time_per_case = 1e-9 # time to execute a single case in seconds\n",
    "sec_day = 3600 * 24 # seconds in a day\n",
    "sec_year = sec_day * 365 # seconds in a year\n",
    "\n",
    "print(\n",
    "    f\"- For 10 items, 2^10 cases, we need {time_to_solution(2, time_per_case)} seconds.\"\n",
    ")\n",
    "print(\n",
    "    f\"- For 50 items, 2^50 cases, we need {round(time_to_solution(50, time_per_case) / sec_day)} days.\"\n",
    ")\n",
    "print(\n",
    "    f\"- For 127 items, 2^127 cases, we need {round(time_to_solution(127, time_per_case) / sec_year)} years.\"\n",
    ")"
   ]
  },
  {
   "cell_type": "markdown",
   "metadata": {},
   "source": [
    "Guess we don't have the time to try all the possible solutions for 100\n",
    "items 😅! Thankfully, we don\\'t need to --- there are algorithms to find\n",
    "good solutions to combinatorial optimization problems, and maybe one day\n",
    "we will show that one of these algorithms is quantum. So let's continue\n",
    "with our quest 🫡.\n",
    "\n",
    "Our next step is to represent our problem mathematically. First, we\n",
    "represent our items by binary variables $x_i$ that take the value $1$ if\n",
    "we bring the $i$-th item and $0$ otherwise. Next, we know that we want\n",
    "to **maximize** the value of the items carried, so let's create a\n",
    "function $f(\\mathrm{x})$ with these characteristics. To do so, we assign\n",
    "the variables $x_i$ to each of the items\n",
    "$\\mathrm{x} = \\{x_0:⚽️ , x_1:💻, x_2:📸, x_3:📚, x_4:🎸\\},$ multiply each\n",
    "variable by the corresponding item value, and define a function that\n",
    "calculates the weighted sum value of the item:\n",
    "\n",
    "$$\\max_x f(\\mathrm{x}) = \\max_x \\left(8x_0 + 47x_1 + 10x_2 + 5x_3 + 16x_4\\right) \\tag{1}$$\n",
    "\n",
    "This function, called the `objective function`, represents the value of\n",
    "the items we can transport. Usually, solvers [minimize\n",
    "functions](https://en.wikipedia.org/wiki/Mathematical_optimization), so\n",
    "a simple trick in our case is to minimize the negative of our function\n",
    "(which ends up being maximizing our original function 🤪)\n",
    "\n",
    "$$\\min_x -(8x_0 + 47x_1 + 10x_2 + 5x_3 + 16x_4 ) \\tag{2}$$\n",
    "\n",
    "We can write our equation above using the general form of the [QUBO\n",
    "representation](https://en.wikipedia.org/wiki/Quadratic_unconstrained_binary_optimization),\n",
    "i.e., using an upper triangular matrix\n",
    "$Q \\in \\mathbb{R}^{n \\  \\mathrm{x} \\ n}:$\n",
    "\n",
    "$$\\min_x \\mathrm{x}^TQ \\mathrm{x} = \\min_x \\left(\\sum_i \\sum_{j\\ge i} Q_{ij} x_i x_j\\right) = \\min_x \\left(\\sum_i Q_{ii} x_i + \\sum_i\\sum_{j>i} Q_{ij}x_i x_j\\right) \\tag{3}$$\n",
    "\n",
    "where $\\mathrm{x}$ is a vector representing the items of our problem.\n",
    "Note that $x_i x_i = x_i$ for binary variables. Let\\'s look at an\n",
    "example of how to calculate the $\\mathrm{x}^TQ \\mathrm{x}$ above:\n"
   ]
  },
  {
   "cell_type": "code",
   "execution_count": 7,
   "metadata": {
    "collapsed": false
   },
   "outputs": [
    {
     "name": "stdout",
     "output_type": "stream",
     "text": [
      "Q=[[ -8   0   0   0   0]\n",
      " [  0 -47   0   0   0]\n",
      " [  0   0 -10   0   0]\n",
      " [  0   0   0  -5   0]\n",
      " [  0   0   0   0 -16]]\n",
      "The minimum cost is  -71\n"
     ]
    }
   ],
   "source": [
    "Q = -np.diag(list(items_values.values()))  # Matrix Q for the problem above.\n",
    "x_opt = np.array(\n",
    "    [[1 if i in optimal_solution[\"items\"] else 0] for i in items_values.keys()]\n",
    ")  # Optimal solution.\n",
    "opt_str = \"\".join(str(i[0]) for i in x_opt)\n",
    "min_cost = (x_opt.T @ Q @ x_opt)[0, 0]  # using Equation 3 above\n",
    "print(f\"Q={Q}\")\n",
    "print(f\"The minimum cost is  {min_cost}\")"
   ]
  },
  {
   "cell_type": "markdown",
   "metadata": {},
   "source": [
    "But just with this function, we cannot solve the problem. We also need\n",
    "the weight restriction. Based on our variables, the weight list\n",
    "(items\\_weight = {\"⚽️\": $3$, \"💻\": $11$, \"📸\": $14$, \"📚\": $19,$ \"🎸\":\n",
    "$5$}), and the knapsack maximum weight (maximum\\_weight $W = 26$), we\n",
    "can construct our constraint\n",
    "\n",
    "$$3x_0 + 11x_1 + 14x_2 + 19x_3 + 5x_4 \\le 26$$\n",
    "\n",
    "Here comes a crucial step in the solution of the problem: we need to\n",
    "find a way to combine our *objective function* with this *inequality\n",
    "constraint*. One common method is to include the constraint as a\n",
    "**penalty** term in the objective function. This penalty term should be\n",
    "zero when the total weight of the items is less or equal to 26 and large\n",
    "otherwise. So to make them zero in the range of validity of the\n",
    "constraint, the usual approach is to use *slack variables*. There is an\n",
    "alternative method that has shown to perform better, called [unbalanced\n",
    "penalization](https://arxiv.org/pdf/2211.13914.pdf) , but we present\n",
    "this method later 😉.\n",
    "\n",
    "The slack variable is an auxiliary variable that allows us to convert\n",
    "inequality constraints into equality constraints. The slack variable $S$\n",
    "represents the amount by which the left-hand side of the inequality\n",
    "falls short of the right-hand side. If the left-hand side is less than\n",
    "the right-hand side, then $S$ will be positive and equal to the\n",
    "difference between the two sides. In our case\n",
    "\n",
    "$$3x_0 + 11x_1 + 14x_2 + 19x_3 + 5x_4 + S = 26\\tag{4}$$\n",
    "\n",
    "where $0 \\le S \\le 26.$ But let's take this slowly because we can get\n",
    "lost here, so let's see this with some examples:\n",
    "\n",
    "-   Imagine this case. No item is selected {$x_0$: $0$, $x_1$: $0$,\n",
    "    $x_2:$ $0,$ $x_3$: $0,$ $x_4:$ $0$}, so the overall weight is zero\n",
    "    (a valid solution) and the equality constraint Eq.(4) must be\n",
    "    fulfilled. So we select our slack variable to be 26.\n",
    "-   Now, what if we bring ⚽️ and 📚 {$x_0$: $1$, $x_1$: $0$, $x_2$: $0$,\n",
    "    $x_3:$ $1,$\n",
    "    $x_4:`0}. In this case, the overall weight is :math:`3 + 19 = 22$ (a\n",
    "    valid solution) and the equality constraint is fulfilled if\n",
    "    $22 + S = 26 \\rightarrow S = 4.$\n",
    "-   Finally, what if we try to bring all the items {$x_0$: $1$, $x_1$:\n",
    "    $1$, $x_2:$ $1,$ $x_3$: $1,$ $x_4:$ $1$}, the total weight, in this\n",
    "    case, is $3+11+14+19+5=52$ (not a valid solution), to fulfill the\n",
    "    constraint, we need $52 + S = 26 \\rightarrow S=-26$ but the slack\n",
    "    variable is in the range $(0,26)$ in our definition, so, in this\n",
    "    case, there is valid solution for $S.$\n",
    "\n",
    "Excellent, now we have a way to represent the inequality constraint. Two\n",
    "further steps are needed. First, the slack variable has to be\n",
    "represented in binary form so we can cast it as a sum\n",
    "\n",
    "$$S = \\sum_{k=0}^{N-1} 2^k s_k,$$\n",
    "\n",
    "where $N = \\lfloor\\log_2(\\max S)\\rfloor + 1.$ In our case\n",
    "$N = \\lfloor\\log_2(26)\\rfloor + 1 = 5.$ We need 5 binary variables to\n",
    "represent the range of our $S$ variable.\n",
    "\n",
    "$$S = 2^0 s_0 + 2^1 s_1 + 2^2 s_2 + 2^3 s_3 + 2^4 s_4$$\n",
    "\n",
    "To compact our equation later, let's rename our slack variables by\n",
    "$s_0=x_5$, $s_1=x_6,$ $s_3=x_7$, $s_4=x_8,$ and $s_5=x_9.$ Then we have\n",
    "\n",
    "$$S = 1 x_5 + 2 x_6 + 4 x_7 + 8 x_8 + 16 x_9.$$\n",
    "\n",
    "For example, if we need to represent the second case above (⚽️, 📚),\n",
    "$S = 4 \\rightarrow\\{x_5:0, x_6:0,x_7:1,x_8:0, x_9:0\\}.$\n",
    "\n",
    "We are almost done in our quest to represent our problem in such a way\n",
    "that our quantum computer can manage it. The last step is to add the\n",
    "penalty term, a usual choice for it is to use a quadratic penalty\n",
    "\n",
    "$$p(x,s) = \\lambda \\left(3x_0 + 11x_1 + 14x_2 + 19 x_3 + 5x_4 + x_5 + 2 x_6 + 4x_7 + 8 x_8 + 16 x_9 - 26\\right)^2. \\tag{5}$$\n",
    "\n",
    "Note that this is simply the difference between the left- and right-hand\n",
    "sides of equation $(4).$ With this expression, the condition is\n",
    "satisfied only when the term inside the parentheses is zero. $\\lambda$\n",
    "is a penalty coefficient that we must tune to make that the constraint\n",
    "will always be fulfilled.\n",
    "\n",
    "Now, the objective function can be given by:\n",
    "\n",
    "$$\\min_{x,s} f(x) + p(x,s) = \\min_{x,s} -(8x_0 + 47x_1 + 10x_2 + 5x_3 + 16x_4) +$$\n",
    "\n",
    "$$\\lambda \\left(3x_0 + 11x_1 + 14x_2 + 19x_3 + 5x_4 + x_5 + 2 x_6 + 4x_7 + 8 x_8 + 16 x_9 - 26\\right)^2 \\tag{6}$$\n",
    "\n",
    "or, compacted,\n",
    "\n",
    "$$\\min_{x,s} \\left(f(x) + p(x,s) = -\\sum_i v_i x_i +\\lambda \\left(\\sum_i w_i x_i - W\\right)^2\\right), \\tag{7}$$\n",
    "\n",
    "where $v_i$ and $w_i$ are the value and weight of the $i$-th item.\n",
    "Because of the square in the second term, some $x_i x_i$ terms show up.\n",
    "We can apply the property $x_i x_i = x_i$ (if\n",
    "$x_i = 0 \\rightarrow x_ix_i = 0\\cdot0 = 0$ or\n",
    "$x_i = 1 \\rightarrow x_ix_i = 1\\cdot1 = 1$).\n",
    "\n",
    "The quadratic term on the right-hand side of equation $(7)$ can be\n",
    "rewritten as\n",
    "\n",
    "$$\\left(\\sum_i w_i x_i - C\\right)^2 = \\left(\\sum_i w_i x_i - C\\right)\\left(\\sum_j w_j x_j - C\\right)$$\n",
    "\n",
    "$$= \\sum_i \\sum_j w_i w_j x_i x_j - 2C \\sum_i w_i x_i + C^2$$\n",
    "\n",
    "$$= 2\\sum_i \\sum_{j>i} w_i w_j x_i x_j - \\sum_i w_i(2C - w_i) x_i + C^2 \\tag{8}$$\n",
    "\n",
    "where $w_i$ represent the weights for the items and $2^k$ for the slack\n",
    "variables. We can combine equations $(7)$ and $(8)$ to get the terms of\n",
    "the matrix $Q.$ So we end up with\n",
    "\n",
    "$$Q_{ij} = 2\\lambda w_i w_j,\\tag{9}$$\n",
    "\n",
    "$$Q_{ii} = - v_i  + \\lambda w_i(w_i - 2W).\\tag{10}$$\n",
    "\n",
    "The term $\\lambda W^2$ is only an offset value that does not affect the\n",
    "optimization result and can be added after the optimization to represent\n",
    "the right cost. Let\\'s see how it looks like in our particular example.\n"
   ]
  },
  {
   "cell_type": "code",
   "execution_count": 8,
   "metadata": {
    "collapsed": false
   },
   "outputs": [
    {
     "name": "stdout",
     "output_type": "stream",
     "text": [
      "Q=[[ -302   132   168   228    60    12    24    48    96   192]\n",
      " [    0  -949   616   836   220    44    88   176   352   704]\n",
      " [    0     0 -1074  1064   280    56   112   224   448   896]\n",
      " [    0     0     0 -1259   380    76   152   304   608  1216]\n",
      " [    0     0     0     0  -486    20    40    80   160   320]\n",
      " [    0     0     0     0     0  -102     8    16    32    64]\n",
      " [    0     0     0     0     0     0  -200    32    64   128]\n",
      " [    0     0     0     0     0     0     0  -384   128   256]\n",
      " [    0     0     0     0     0     0     0     0  -704   512]\n",
      " [    0     0     0     0     0     0     0     0     0 -1152]]\n",
      "Cost:-71\n"
     ]
    }
   ],
   "source": [
    "N = round(np.ceil(np.log2(maximum_weight)))  # number of slack variables\n",
    "weights = list(items_weight.values()) + [2**k for k in range(N)]\n",
    "\n",
    "QT = np.pad(Q, ((0, N), (0, N)))  # adding the extra slack variables at the end of the Q matrix\n",
    "n_qubits = len(QT)\n",
    "lambd = 2  # We choose a lambda parameter enough large for the constraint to always be fulfilled\n",
    "# Adding the terms for the penalty term\n",
    "for i in range(len(QT)):\n",
    "    QT[i, i] += lambd * weights[i] * (weights[i] - 2 * maximum_weight)  # Eq. 10\n",
    "    for j in range(i + 1, len(QT)):\n",
    "        QT[i, j] += 2 * lambd * weights[i] * weights[j]  # Eq. 9\n",
    "offset = lambd * maximum_weight**2\n",
    "print(f\"Q={QT}\")\n",
    "# optimal string slack string\n",
    "slack_string = np.binary_repr(maximum_weight - optimal_solution[\"weight\"], N)[::-1]\n",
    "x_opt_slack = np.concatenate(\n",
    "    (x_opt, np.array([[int(i)] for i in slack_string]))\n",
    ")  # combining the optimal string and slack string\n",
    "opt_str_slack = \"\".join(str(i[0]) for i in x_opt_slack)\n",
    "cost = (x_opt_slack.T @ QT @ x_opt_slack)[0, 0] + offset  # Optimal cost using equation 3\n",
    "print(f\"Cost:{cost}\")\n",
    "\n",
    "# At this point, we have encoded the problem in a format that we can use to solve it on quantum\n",
    "# computers. Now it only remains to solve it using quantum algorithms!"
   ]
  },
  {
   "cell_type": "markdown",
   "metadata": {},
   "source": [
    "QAOA\n",
    "====\n",
    "\n",
    "We use QAOA [\\[1\\]](https://arxiv.org/pdf/1411.4028.pdf) to find the\n",
    "solution to our Knapsack Problem ([read this\n",
    "demo](https://pennylane.ai/qml/demos/tutorial_qaoa_intro) for a more\n",
    "detailed explanation of the QAOA algorithm). In this case, the cost\n",
    "Hamiltonian, $H_c(Z),$ obtained from the QUBO formulation is translated\n",
    "into a parametric unitary gate given by\n",
    "\n",
    "$$U(H_c, \\gamma_i)=e^{-i \\gamma_i H_c},\\tag{11}$$\n",
    "\n",
    "$$U(H_c, \\gamma_i)=e^{-i \\gamma_i \\left( \\sum_{i<j}^{n-1} J_{ij}Z_iZ_j + \\sum_{i}^{n-1} h_iZ_i\\right)},$$\n",
    "\n",
    "where $\\gamma_i \\in {1,..., p}$ is a set of $p$ parameters to be\n",
    "optimized, the term $e^{-i\\gamma_i J_{ij}Z_iZ_j}$ is implemented in a\n",
    "quantum circuit using a $RZZ(2\\gamma_iJ_{ij})$ gate, and\n",
    "$e^{-i\\gamma_i h_iZ_i}$ using a $RZ(2\\gamma_ih_i)$ gate.\n",
    "\n",
    "The mixer operator applied is\n",
    "\n",
    "$$U(B, \\beta_i)=e^{i \\beta_i X},\\tag{12}$$\n",
    "\n",
    "where $\\beta_i$ is the second parameter that must be optimized and\n",
    "$X = \\sum_{i=1}^n \\sigma_i^x$ with $\\sigma_i^x$ the Pauli-$X$ matrix. We\n",
    "implement Eq. $(12)$ with $R_X(-2\\beta_i) = e^{i \\beta_i \\sigma_x}$\n",
    "gates applied to each qubit. We repeat this sequence of gates $p$ times.\n"
   ]
  },
  {
   "cell_type": "code",
   "execution_count": 9,
   "metadata": {
    "collapsed": false
   },
   "outputs": [],
   "source": [
    "# -----------------------------   QAOA circuit ------------------------------------\n",
    "from collections import defaultdict\n",
    "import pennylane as qml\n",
    "\n",
    "shots = 5000  # Number of samples used\n",
    "dev = qml.device(\"default.qubit\", shots=shots)\n",
    "\n",
    "\n",
    "@qml.qnode(dev)\n",
    "def qaoa_circuit(gammas, betas, h, J, num_qubits):\n",
    "    wmax = max(\n",
    "        np.max(np.abs(list(h.values()))), np.max(np.abs(list(h.values())))\n",
    "    )  # Normalizing the Hamiltonian is a good idea\n",
    "    p = len(gammas)\n",
    "    # Apply the initial layer of Hadamard gates to all qubits\n",
    "    for i in range(num_qubits):\n",
    "        qml.Hadamard(wires=i)\n",
    "    # repeat p layers the circuit shown in Fig. 1\n",
    "    for layer in range(p):\n",
    "        # ---------- COST HAMILTONIAN ----------\n",
    "        for ki, v in h.items():  # single-qubit terms\n",
    "            qml.RZ(2 * gammas[layer] * v / wmax, wires=ki[0])\n",
    "        for kij, vij in J.items():  # two-qubit terms\n",
    "            qml.CNOT(wires=[kij[0], kij[1]])\n",
    "            qml.RZ(2 * gammas[layer] * vij / wmax, wires=kij[1])\n",
    "            qml.CNOT(wires=[kij[0], kij[1]])\n",
    "        # ---------- MIXER HAMILTONIAN ----------\n",
    "        for i in range(num_qubits):\n",
    "            qml.RX(-2 * betas[layer], wires=i)\n",
    "    return qml.sample()\n",
    "\n",
    "\n",
    "def samples_dict(samples, n_items):\n",
    "    \"\"\"Just sorting the outputs in a dictionary\"\"\"\n",
    "    results = defaultdict(int)\n",
    "    for sample in samples:\n",
    "        results[\"\".join(str(i) for i in sample)[:n_items]] += 1\n",
    "    return results"
   ]
  },
  {
   "cell_type": "markdown",
   "metadata": {},
   "source": [
    "The second thing we must consider is the initialization of the $\\beta_i$\n",
    "and $\\gamma_i$ parameters and the subsequent classical optimization of\n",
    "these parameters. Alternatively, we can think of QAOA as a\n",
    "Trotterization of the [quantum adiabatic\n",
    "algorithm](https://openqaoa.entropicalabs.com/parametrization/annealing-parametrization/).\n",
    "We start in the ground state $|+\\rangle ^{\\otimes n}$ of the mixer\n",
    "Hamiltonian $X$ and move to the ground state of the cost Hamiltonian\n",
    "$H_c$ slowly enough to always be close to the ground state of the\n",
    "Hamiltonian. How slow? In our case the rate is determined by the number\n",
    "of layers $p.$ We can adopt this principle and initialize the $\\beta_i$\n",
    "and $\\gamma_i$ in this way, moving $\\beta_i$ from $1$ to $0$ and\n",
    "$\\gamma_i$ from $0$ to $1.$ With this approach, we can skip the\n",
    "optimization part in QAOA.\n"
   ]
  },
  {
   "cell_type": "code",
   "execution_count": 10,
   "metadata": {
    "collapsed": false
   },
   "outputs": [
    {
     "name": "stderr",
     "output_type": "stream",
     "text": [
      "/var/folders/yl/0sxkz9ld7lg_2_yc3mj4d4lh0000gn/T/ipykernel_3894/3297791593.py:11: UserWarning: FigureCanvasAgg is non-interactive, and thus cannot be shown\n",
      "  fig.show()\n"
     ]
    },
    {
     "data": {
      "image/png": "[encoded data removed]",
      "text/plain": [
       "<Figure size 640x480 with 1 Axes>"
      ]
     },
     "metadata": {},
     "output_type": "display_data"
    }
   ],
   "source": [
    "import matplotlib.pyplot as plt\n",
    "# Annealing schedule for QAOA\n",
    "betas = np.linspace(0, 1, 10)[::-1]  # Parameters for the mixer Hamiltonian\n",
    "gammas = np.linspace(0, 1, 10)  # Parameters for the cost Hamiltonian (Our Knapsack problem)\n",
    "\n",
    "fig, ax = plt.subplots()\n",
    "ax.plot(betas, label=r\"$\\beta_i$\", marker=\"o\", markersize=8, markeredgecolor=\"black\")\n",
    "ax.plot(gammas, label=r\"$\\gamma_i$\", marker=\"o\", markersize=8, markeredgecolor=\"black\")\n",
    "ax.set_xlabel(\"i\", fontsize=18)\n",
    "ax.legend()\n",
    "fig.show()"
   ]
  },
  {
   "cell_type": "markdown",
   "metadata": {},
   "source": [
    "This Figure shows the annealing schedule we will use in our QAOA\n",
    "protocol. The y-axis represents the angle in radians and the x-axis\n",
    "represents the i-th layer of QAOA, from $0$ to $9$ for a total of $p=10$\n",
    "layers.\n"
   ]
  },
  {
   "cell_type": "markdown",
   "metadata": {},
   "source": [
    "I know this is a lot of information so far, but we are almost done! The\n",
    "last step to represent the QUBO problem on QPUs is to change the\n",
    "$x_i\\in \\{0, 1\\}$ variables to spin variables $z_i \\in \\{1, -1\\}$ via\n",
    "the transformation $x_i = (1 - z_i) / 2.$ We also want to set the\n",
    "penalty term, so a value of $\\lambda = 2$ will be enough for our\n",
    "problem. In practice, we choose a value for $\\lambda$ and, if after the\n",
    "optimization the solution does not fulfill the constraints, we try again\n",
    "using a larger value. On the other hand, if the solution is suspected to\n",
    "be a valid but suboptimal, then we will reduce $\\lambda$ a little.\n",
    "Eq.(3) can be represented by an Ising Hamiltonian with quadratic and\n",
    "linear terms plus a constant $O,$ namely\n",
    "\n",
    "$$H_c(\\mathrm{z}) = \\sum_{i, j > i}^{n} J_{ij} z_i z_j + \\sum_{i=1}^n h_{i}z_i + O. \\tag{13}$$\n",
    "\n",
    "Here, $J_{ij}$ are interaction terms and $h_i$ are linear terms, all of\n",
    "them depending on the combinatorial optimization problem.\n"
   ]
  },
  {
   "cell_type": "code",
   "execution_count": 20,
   "metadata": {
    "collapsed": false
   },
   "outputs": [
    {
     "name": "stdout",
     "output_type": "stream",
     "text": [
      "Minimum energy:-71.0\n",
      "The number of optimal solutions using slack variables is 22 out of 5000\n"
     ]
    }
   ],
   "source": [
    "def from_Q_to_Ising(Q, offset):\n",
    "    \"\"\"Convert the matrix Q of Eq.3 into Eq.13 elements J and h\"\"\"\n",
    "    n_qubits = len(Q)  # Get the number of qubits (variables) in the QUBO matrix\n",
    "    # Create default dictionaries to store h and pairwise interactions J\n",
    "    h = defaultdict(int)\n",
    "    J = defaultdict(int)\n",
    "\n",
    "    # Loop over each qubit (variable) in the QUBO matrix\n",
    "    for i in range(n_qubits):\n",
    "        # Update the magnetic field for qubit i based on its diagonal element in Q\n",
    "        h[(i,)] -= Q[i, i] / 2\n",
    "        # Update the offset based on the diagonal element in Q\n",
    "        offset += Q[i, i] / 2\n",
    "        # Loop over other qubits (variables) to calculate pairwise interactions\n",
    "        for j in range(i + 1, n_qubits):\n",
    "            # Update the pairwise interaction strength (J) between qubits i and j\n",
    "            J[(i, j)] += Q[i, j] / 4\n",
    "            # Update the magnetic fields for qubits i and j based on their interactions in Q\n",
    "            h[(i,)] -= Q[i, j] / 4\n",
    "            h[(j,)] -= Q[i, j] / 4\n",
    "            # Update the offset based on the interaction strength between qubits i and j\n",
    "            offset += Q[i, j] / 4\n",
    "    # Return the magnetic fields, pairwise interactions, and the updated offset\n",
    "    return h, J, offset\n",
    "\n",
    "\n",
    "def energy_Ising(z, h, J, offset):\n",
    "    \"\"\"\n",
    "    Calculate the energy of an Ising model given spin configurations.\n",
    "\n",
    "    Parameters:\n",
    "    - z: A dictionary representing the spin configurations for each qubit.\n",
    "    - h: A dictionary representing the magnetic fields for each qubit.\n",
    "    - J: A dictionary representing the pairwise interactions between qubits.\n",
    "    - offset: An offset value.\n",
    "\n",
    "    Returns:\n",
    "    - energy: The total energy of the Ising model.\n",
    "    \"\"\"\n",
    "    if isinstance(z, str):\n",
    "        z = [(1 if int(i) == 0 else -1) for i in z]\n",
    "    # Initialize the energy with the offset term\n",
    "    energy = offset\n",
    "    # Loop over the magnetic fields (h) for each qubit and update the energy\n",
    "    for k, v in h.items():\n",
    "        energy += v * z[k[0]]\n",
    "    # Loop over the pairwise interactions (J) between qubits and update the energy\n",
    "    for k, v in J.items():\n",
    "        energy += v * z[k[0]] * z[k[1]]\n",
    "    # Return the total energy of the Ising model\n",
    "    return energy\n",
    "\n",
    "\n",
    "# Our previous example should give us the same result\n",
    "z_exp = [\n",
    "    (1 if i == 0 else -1) for i in x_opt_slack\n",
    "]  # Converting the optimal solution from (0,1) to (1, -1)\n",
    "h, J, zoffset = from_Q_to_Ising(QT, offset)  # Eq.13 for our problem\n",
    "energy = energy_Ising(\n",
    "    z_exp, h, J, zoffset\n",
    ")  # Caluclating the energy (Should be the same that for the QUBO)\n",
    "print(f\"Minimum energy:{energy}\")\n",
    "\n",
    "samples_slack = samples_dict(qaoa_circuit(gammas, betas, h, J, num_qubits=len(QT)), n_qubits)\n",
    "values_slack = {\n",
    "    sum_values(sample_i, values_list): count\n",
    "    for sample_i, count in samples_slack.items()\n",
    "    if sum_weight(sample_i, weights_list) <= maximum_weight\n",
    "}  # saving only the solutions that fulfill the constraint\n",
    "print(\n",
    "    f\"The number of optimal solutions using slack variables is {samples_slack[opt_str_slack]} out of {shots}\"\n",
    ")"
   ]
  },
  {
   "cell_type": "markdown",
   "metadata": {},
   "source": [
    "As you can see, only a few samples from the 5000 shots give us the right\n",
    "answer, there are only $2^5 = 32$ options. Randomly guessing the\n",
    "solution will give us on average $5000/32 \\approx 156$ optimal\n",
    "solutions. Why don't we get good results using QAOA? Maybe we can blame\n",
    "the algorithm or we look deeper--- it turns out our encoding method is\n",
    "really bad. Randomly guessing using the whole set of variables ($5$\n",
    "items + $5$ slack) $2^{10} = 1024$ options, $5000/1024 \\approx 5.$ So in\n",
    "fact we have a tiny improvement.\n"
   ]
  },
  {
   "cell_type": "markdown",
   "metadata": {},
   "source": [
    "Unbalanced penalization (An alternative to slack variables)\n",
    "===========================================================\n",
    "\n",
    "Unbalanced penalization is a function characterized by a larger penalty\n",
    "when the inequality constraint is not achieved than when it is. So we\n",
    "have to modify Eq. 7 to include a linear term in the following way:\n",
    "\n",
    "$$\\min_{x,s} \\left(f(x) + p(x,s)\\right) = \\min_{x,s} \\left(-\\sum_i v_i x_i - \\lambda_1 \\left(\\sum_i w_i x_i - W\\right) + \\lambda_2 \\left(\\sum_i w_i x_i - W\\right)^2\\right)\\tag{14}.$$\n",
    "\n",
    "where $\\lambda_{1,2}$ are again penalty coefficients. Here\n",
    "[\\[2\\]](https://arxiv.org/abs/2211.13914) and\n",
    "[\\[3\\]](https://arxiv.org/pdf/2305.18757.pdf) some details about\n",
    "unbalanced penalization. The method is already implemented in\n",
    "[OpenQAOA](https://openqaoa.entropicalabs.com/) and [D-Wave\n",
    "Ocean](https://docs.ocean.dwavesys.com/en/stable/) so we don\\'t have to\n",
    "code it ourselves. **The cliffnotes are that you don't need slack\n",
    "variables for the inequality constraints anymore using this approach**.\n"
   ]
  },
  {
   "cell_type": "code",
   "execution_count": null,
   "metadata": {
    "collapsed": false
   },
   "outputs": [
    {
     "name": "stdout",
     "output_type": "stream",
     "text": [
      "-- cannot find parameters matching version: , using: 22.1.1.0\n",
      "-- cannot find parameters matching version: , using: 22.1.1.0\n",
      "The number of solutions using unbalanced penalization is 2031 out of 5000\n"
     ]
    }
   ],
   "source": [
    "from openqaoa.problems import FromDocplex2IsingModel\n",
    "from docplex.mp.model import Model\n",
    "\n",
    "\n",
    "def Knapsack(values, weights, maximum_weight):\n",
    "    \"\"\"Create a docplex model of the problem. (Docplex is a classical solver from IBM)\"\"\"\n",
    "    n_items = len(values)\n",
    "    mdl = Model()\n",
    "    x = mdl.binary_var_list(range(n_items), name=\"x\")\n",
    "    cost = -mdl.sum(x[i] * values[i] for i in range(n_items))\n",
    "    mdl.minimize(cost)\n",
    "    mdl.add_constraint(mdl.sum(x[i] * weights[i] for i in range(n_items)) <= maximum_weight)\n",
    "    return mdl\n",
    "\n",
    "\n",
    "# Docplex model, we need to convert our problem in this format to use the unbalanced penalization approach\n",
    "mdl = Knapsack(values_list, weights_list, maximum_weight)\n",
    "lambda_1, lambda_2 = (0.96, 0.0371,)  # Parameters of the unbalanced penalization function (They are in the main paper)\n",
    "ising_hamiltonian = FromDocplex2IsingModel(\n",
    "    mdl,\n",
    "    unbalanced_const=True,\n",
    "    strength_ineq=[lambda_1, lambda_2],  # https://arxiv.org/abs/2211.13914\n",
    ").ising_model\n",
    "\n",
    "h_new = {\n",
    "    tuple(i): w for i, w in zip(ising_hamiltonian.terms, ising_hamiltonian.weights) if len(i) == 1\n",
    "}\n",
    "J_new = {\n",
    "    tuple(i): w for i, w in zip(ising_hamiltonian.terms, ising_hamiltonian.weights) if len(i) == 2\n",
    "}\n",
    "\n",
    "samples_unbalanced = samples_dict(\n",
    "    qaoa_circuit(gammas, betas, h_new, J_new, num_qubits=n_items), n_items\n",
    ")\n",
    "values_unbalanced = {\n",
    "    sum_values(sample_i, values_list): count\n",
    "    for sample_i, count in samples_unbalanced.items()\n",
    "    if sum_weight(sample_i, weights_list) <= maximum_weight\n",
    "}  # saving only the solutions that fulfill the constraint\n",
    "\n",
    "print(f\"The number of solutions using unbalanced penalization is {samples_unbalanced[opt_str]} out of {shots}\")\n",
    "\n"
   ]
  },
  {
   "cell_type": "code",
   "execution_count": 16,
   "metadata": {},
   "outputs": [
    {
     "name": "stdout",
     "output_type": "stream",
     "text": [
      "Ising Hamiltonian j: {(0,): 2.5600000000000005, (1,): 18.22, (2,): -1.7199999999999982, (3,): -6.619999999999999, (4,): 5.6000000000000005}\n",
      "J_new: {(0, 1): 0.61215, (0, 2): 0.7791, (0, 3): 1.05735, (0, 4): 0.27825, (1, 2): 2.8567, (1, 3): 3.87695, (1, 4): 1.02025, (2, 3): 4.9343, (2, 4): 1.2985, (3, 4): 1.76225}\n"
     ]
    }
   ],
   "source": [
    "print(f\"Ising Hamiltonian j: {h_new}\")\n",
    "print(f\"J_new: {J_new}\")"
   ]
  },
  {
   "cell_type": "markdown",
   "metadata": {},
   "source": [
    "We have improved the QAOA solution by encoding our QUBO wisely, with\n",
    "almost 2000 out of the 5000 samples being the optimal solution. Below,\n",
    "we compare the two different methods to encode the problem. The x-axis\n",
    "is the value of the items we bring based on the optimization (the larger\n",
    "the better) and the y-axis is the number of samples with that value (in\n",
    "log scale to observe the slack variables approach). In this sense, QAOA\n",
    "is pointing to the optimal and suboptimal solutions.\n"
   ]
  },
  {
   "cell_type": "code",
   "execution_count": 17,
   "metadata": {
    "collapsed": false
   },
   "outputs": [
    {
     "name": "stderr",
     "output_type": "stream",
     "text": [
      "/var/folders/yl/0sxkz9ld7lg_2_yc3mj4d4lh0000gn/T/ipykernel_3894/1571792834.py:23: UserWarning: FigureCanvasAgg is non-interactive, and thus cannot be shown\n",
      "  fig.show()\n"
     ]
    },
    {
     "data": {
      "image/png": "[encoded data removed]",
      "text/plain": [
       "<Figure size 640x480 with 1 Axes>"
      ]
     },
     "metadata": {},
     "output_type": "display_data"
    }
   ],
   "source": [
    "fig, ax = plt.subplots()\n",
    "ax.hist(\n",
    "    values_unbalanced.keys(),\n",
    "    weights=values_unbalanced.values(),\n",
    "    bins=50,\n",
    "    edgecolor=\"black\",\n",
    "    label=\"unbalanced\",\n",
    "    align=\"right\",\n",
    ")\n",
    "ax.hist(\n",
    "    values_slack.keys(),\n",
    "    weights=values_slack.values(),\n",
    "    bins=50,\n",
    "    edgecolor=\"black\",\n",
    "    label=\"slack\",\n",
    "    align=\"left\",\n",
    ")\n",
    "ax.vlines(-min_cost, 0, 3000, linestyle=\"--\", color=\"black\", label=\"Optimal\", linewidth=2)\n",
    "ax.set_yscale(\"log\")\n",
    "ax.legend()\n",
    "ax.set_ylabel(\"counts\")\n",
    "ax.set_xlabel(\"values\")\n",
    "fig.show()"
   ]
  },
  {
   "cell_type": "markdown",
   "metadata": {},
   "source": [
    "Quantum Annealing Solution\n",
    "==========================\n"
   ]
  },
  {
   "cell_type": "markdown",
   "metadata": {},
   "source": [
    "[Quantum\n",
    "annealing](https://en.wikipedia.org/wiki/Quantum_annealing#:~:text=Quantum%20annealing%20is%20used%20mainly,Apolloni%2C%20N.)\n",
    "is a process that exploits quantum mechanical effects to find low energy\n",
    "states of Ising Hamiltonians. We will use the quantum annealer D-Wave\n",
    "Advantage, a quantum computing system developed by D-Wave Systems Inc\n",
    "that has more than 5000 qubits.\n"
   ]
  },
  {
   "cell_type": "code",
   "execution_count": null,
   "metadata": {
    "collapsed": false
   },
   "outputs": [],
   "source": [
    "from dwave.system import DWaveSampler, EmbeddingComposite\n",
    "from dwave.cloud import Client\n",
    "import dimod\n",
    "import pandas as pd\n",
    "\n",
    "bqm = {}\n",
    "# BQM - Binary Quadratic Model\n",
    "# This creates the QUBO model of our Knapsack problem using the slack variables approach\n",
    "# offset is the constant term in our QUBO formulation\n",
    "# ----------- SLACK METHOD -----------\n",
    "bqm[\"slack\"] = dimod.BQM.from_qubo(QT, offset=lambd * maximum_weight**2)\n",
    "bqm[\"slack\"].relabel_variables({i: f\"x_{i}\" for i in range(bqm[\"slack\"].num_variables)})\n",
    "# -----------  UNBALANCED METHOD -----------\n",
    "lagrange_multiplier = [0.96, 0.0371]  # Again values from the paper\n",
    "bqm[\"unbalanced\"] = dimod.BQM.from_qubo(Q)  # This adds the objective function to the model\n",
    "bqm[\"unbalanced\"].add_linear_inequality_constraint(\n",
    "    [(n, i) for n, i in enumerate(weights_list)],  # This adds the constraint\n",
    "    lagrange_multiplier,\n",
    "    \"unbalanced\",\n",
    "    ub=maximum_weight,\n",
    "    penalization_method=\"unbalanced\",\n",
    ")\n",
    "bqm[\"unbalanced\"].relabel_variables({i: f\"x_{i}\" for i in range(bqm[\"unbalanced\"].num_variables)})\n",
    "\n",
    "# If you have an account you can execute the following code, otherwise read the file.\n",
    "account = False\n",
    "df = {}\n",
    "if account:\n",
    "    # Replace with your client information\n",
    "    sampler = DWaveSampler(region=\"eu-central-1\")\n",
    "    sampler_qpu = EmbeddingComposite(sampler)\n",
    "    for method in [\"slack\", \"unbalanced\"]:\n",
    "        samples = sampler_qpu.sample(bqm[method], num_reads=5000)  # Executing on real hardware\n",
    "        df[method] = (\n",
    "            samples.to_pandas_dataframe().sort_values(\"energy\").reset_index(drop=True)\n",
    "        )  # Converting the sampling information and sort it by cost\n",
    "        df[method].to_json(f\"QUBO/dwave_results_{method}.json\")  # save the results\n",
    "else:\n",
    "    df = {}\n",
    "    for method in [\"slack\", \"unbalanced\"]:\n",
    "        df[method] = pd.read_json(f\"QUBO/dwave_results_{method}.json\")\n",
    "        # Loading the data from an execution on D-Wave Advantage\n",
    "\n",
    "\n",
    "samples_dwave = {}\n",
    "values = {}\n",
    "for method in [\"slack\", \"unbalanced\"]:\n",
    "    samples_dwave[method] = defaultdict(int)\n",
    "    for i, row in df[method].iterrows():\n",
    "        # Postprocessing the information\n",
    "        sample_i = \"\".join(str(round(row[q])) for q in bqm[method].variables)\n",
    "        samples_dwave[method][sample_i] += row[\"num_occurrences\"]\n",
    "    values[method] = {\n",
    "        sum_values(sample_i, values_list): count\n",
    "        for sample_i, count in samples_dwave[method].items()\n",
    "        if sum_weight(sample_i, weights_list) <= maximum_weight\n",
    "    }"
   ]
  },
  {
   "cell_type": "markdown",
   "metadata": {},
   "source": [
    "The histogram below shows the results of both encodings on D-Wave\n",
    "Advantage. Once again, we prove that depending on the encoding method\n",
    "for our problem, we get good or bad results.\n"
   ]
  },
  {
   "cell_type": "code",
   "execution_count": null,
   "metadata": {
    "collapsed": false
   },
   "outputs": [],
   "source": [
    "fig, ax = plt.subplots()\n",
    "bins = {\"unbalanced\": 5, \"slack\": 40}\n",
    "for method in [\"unbalanced\", \"slack\"]:\n",
    "    ax.hist(\n",
    "        values[method].keys(),\n",
    "        weights=values[method].values(),\n",
    "        bins=bins[method],\n",
    "        edgecolor=\"black\",\n",
    "        label=method,\n",
    "        align=\"right\",\n",
    "    )\n",
    "ax.vlines(-min_cost, 0, 5000, linestyle=\"--\", color=\"black\", label=\"Optimal\", linewidth=2)\n",
    "ax.set_yscale(\"log\")\n",
    "ax.legend()\n",
    "ax.set_ylabel(\"counts\")\n",
    "ax.set_xlabel(\"value\")\n",
    "fig.show()"
   ]
  },
  {
   "cell_type": "markdown",
   "metadata": {},
   "source": [
    "Conclusion\n",
    "==========\n",
    "\n",
    "We have come to the end of this demo. We have covered the definition of\n",
    "combinatorial optimization problems and how to formulate one of them,\n",
    "the Knapsack Problem, using QUBO, and two different encodings: slack\n",
    "variables and unbalanced penalization. Then, we solved them using\n",
    "optimization-free QAOA and QA. Now, it's your turn to experiment with\n",
    "QAOA! If you need some inspiration:\n",
    "\n",
    "-   Look at the [OpenQAOA](https://openqaoa.entropicalabs.com/) set of\n",
    "    problems. There are plenty of them like bin packing, traveling\n",
    "    salesman, and maximal independent set, among others.\n",
    "-   Play around with larger problems.\n",
    "\n",
    "References\n",
    "==========\n",
    "\n",
    "\\[1\\] Farhi, E., Goldstone, J., & Gutmann, S. (2014). A Quantum\n",
    "Approximate Optimization Algorithm. <http://arxiv.org/abs/1411.4028>\n",
    "\n",
    "\\[2\\] Montanez-Barrera, A., Willsch, D., A., Maldonado-Romo, &\n",
    "Michielsen, K. (2022). Unbalanced penalization: A new approach to encode\n",
    "inequality constraints of combinatorial problems for quantum\n",
    "optimization algorithms. <http://arxiv.org/abs/2211.13914>\n",
    "\n",
    "\\[3\\] Montanez-Barrera, J. A., Heuvel, P. van den, Willsch, D., &\n",
    "Michielsen, K. (2023). Improving Performance in Combinatorial\n",
    "Optimization Problems with Inequality Constraints: An Evaluation of the\n",
    "Unbalanced Penalization Method on D-Wave Advantage.\n",
    "<https://doi.org/10.1109/QCE57702.2023.00067>\n"
   ]
  },
  {
   "cell_type": "markdown",
   "metadata": {},
   "source": [
    "About the author\n",
    "================\n"
   ]
  }
 ],
 "metadata": {
  "kernelspec": {
   "display_name": "env_UC2",
   "language": "python",
   "name": "python3"
  },
  "language_info": {
   "codemirror_mode": {
    "name": "ipython",
    "version": 3
   },
   "file_extension": ".py",
   "mimetype": "text/x-python",
   "name": "python",
   "nbconvert_exporter": "python",
   "pygments_lexer": "ipython3",
   "version": "3.10.15"
  }
 },
 "nbformat": 4,
 "nbformat_minor": 0
}
